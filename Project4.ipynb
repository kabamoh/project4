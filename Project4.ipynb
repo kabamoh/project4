{
 "cells": [
  {
   "cell_type": "markdown",
   "metadata": {},
   "source": [
    "This is my Exploratory Data Analysis(EDA) by using pandas and matplotlib\n",
    "\n",
    "I will use pandas for data manipulation and matplotlib for plotting graphs\n",
    "\n",
    "The data i'm using is owned by creditriskanalytics\n",
    "\n",
    "My data is accessible in CSV format, then I will import the tools to call read_csv by using pandas to read the csv file \n",
    "\n",
    "I'm going to find out the following questions: a) Amount of the credit requested b) Mortgage amount, and c) Value of the house"
   ]
  },
  {
   "cell_type": "code",
   "execution_count": 1,
   "metadata": {},
   "outputs": [],
   "source": [
    "# read hmeq.csv into a DataFrame called 'hmeq'\n",
    "import pandas as pd\n",
    "hmeq = pd.read_csv('C:/Users/molak/Desktop/dev/hmeq.csv')"
   ]
  },
  {
   "cell_type": "code",
   "execution_count": 2,
   "metadata": {},
   "outputs": [
    {
     "data": {
      "text/plain": [
       "(5960, 13)"
      ]
     },
     "execution_count": 2,
     "metadata": {},
     "output_type": "execute_result"
    }
   ],
   "source": [
    "hmeq.shape"
   ]
  },
  {
   "cell_type": "code",
   "execution_count": 3,
   "metadata": {},
   "outputs": [
    {
     "data": {
      "text/plain": [
       "<bound method NDFrame.head of       BAD   LOAN   MORTDUE     VALUE   REASON      JOB   YOJ  DEROG  DELINQ  \\\n",
       "0       1   1100   25860.0   39025.0  HomeImp    Other  10.5    0.0     0.0   \n",
       "1       1   1300   70053.0   68400.0  HomeImp    Other   7.0    0.0     2.0   \n",
       "2       1   1500   13500.0   16700.0  HomeImp    Other   4.0    0.0     0.0   \n",
       "3       1   1500       NaN       NaN      NaN      NaN   NaN    NaN     NaN   \n",
       "4       0   1700   97800.0  112000.0  HomeImp   Office   3.0    0.0     0.0   \n",
       "5       1   1700   30548.0   40320.0  HomeImp    Other   9.0    0.0     0.0   \n",
       "6       1   1800   48649.0   57037.0  HomeImp    Other   5.0    3.0     2.0   \n",
       "7       1   1800   28502.0   43034.0  HomeImp    Other  11.0    0.0     0.0   \n",
       "8       1   2000   32700.0   46740.0  HomeImp    Other   3.0    0.0     2.0   \n",
       "9       1   2000       NaN   62250.0  HomeImp    Sales  16.0    0.0     0.0   \n",
       "10      1   2000   22608.0       NaN      NaN      NaN  18.0    NaN     NaN   \n",
       "11      1   2000   20627.0   29800.0  HomeImp   Office  11.0    0.0     1.0   \n",
       "12      1   2000   45000.0   55000.0  HomeImp    Other   3.0    0.0     0.0   \n",
       "13      0   2000   64536.0   87400.0      NaN      Mgr   2.5    0.0     0.0   \n",
       "14      1   2100   71000.0   83850.0  HomeImp    Other   8.0    0.0     1.0   \n",
       "15      1   2200   24280.0   34687.0  HomeImp    Other   NaN    0.0     1.0   \n",
       "16      1   2200   90957.0  102600.0  HomeImp      Mgr   7.0    2.0     6.0   \n",
       "17      1   2200   23030.0       NaN      NaN      NaN  19.0    NaN     NaN   \n",
       "18      1   2300   28192.0   40150.0  HomeImp    Other   4.5    0.0     0.0   \n",
       "19      0   2300  102370.0  120953.0  HomeImp   Office   2.0    0.0     0.0   \n",
       "20      1   2300   37626.0   46200.0  HomeImp    Other   3.0    0.0     1.0   \n",
       "21      1   2400   50000.0   73395.0  HomeImp  ProfExe   5.0    1.0     0.0   \n",
       "22      1   2400   28000.0   40800.0  HomeImp      Mgr  12.0    0.0     0.0   \n",
       "23      1   2400   18000.0       NaN  HomeImp      Mgr  22.0    NaN     2.0   \n",
       "24      1   2400       NaN   17180.0  HomeImp    Other   NaN    0.0     0.0   \n",
       "25      1   2400   34863.0   47471.0  HomeImp      Mgr  12.0    0.0     0.0   \n",
       "26      0   2400   98449.0  117195.0  HomeImp   Office   4.0    0.0     0.0   \n",
       "27      1   2500   15000.0   20200.0  HomeImp      NaN  18.0    0.0     0.0   \n",
       "28      1   2500   25116.0   36350.0  HomeImp    Other  10.0    1.0     2.0   \n",
       "29      0   2500    7229.0   44516.0  HomeImp     Self   NaN    0.0     0.0   \n",
       "...   ...    ...       ...       ...      ...      ...   ...    ...     ...   \n",
       "5930    1  72300       NaN   85000.0  DebtCon    Other   1.0    0.0     0.0   \n",
       "5931    1  75400       NaN   89609.0  DebtCon    Other   1.0    0.0     0.0   \n",
       "5932    1  76500   38206.0   90000.0  DebtCon    Other  12.0    0.0     0.0   \n",
       "5933    1  77200   83962.0  215000.0  HomeImp     Self   8.0    1.0     2.0   \n",
       "5934    1  77400   87651.0  224630.0  HomeImp     Self   9.0    0.0     2.0   \n",
       "5935    0  78400   13900.0  102910.0  HomeImp      NaN  27.0    0.0     1.0   \n",
       "5936    0  78700   22762.0  102997.0  HomeImp      NaN  25.0    0.0     0.0   \n",
       "5937    0  79100   23553.0  103807.0  HomeImp      NaN  25.0    0.0     1.0   \n",
       "5938    0  79200   21694.0  103143.0  HomeImp      NaN  26.0    0.0     1.0   \n",
       "5939    0  79200   22940.0  110114.0  HomeImp      NaN  28.0    0.0     1.0   \n",
       "5940    0  79900   18363.0  109675.0  HomeImp      NaN  27.0    0.0     1.0   \n",
       "5941    0  80300   20370.0  109127.0  HomeImp      NaN  27.0    0.0     1.0   \n",
       "5942    0  80600   16337.0  109370.0  HomeImp      NaN  28.0    0.0     0.0   \n",
       "5943    0  81200   18834.0  108355.0  HomeImp      NaN  28.0    0.0     0.0   \n",
       "5944    0  81400   22344.0  108280.0  HomeImp      NaN  25.0    0.0     0.0   \n",
       "5945    0  81400   21041.0  111304.0  HomeImp      NaN  26.0    0.0     0.0   \n",
       "5946    0  82200   16097.0  111287.0  HomeImp      NaN  26.0    0.0     0.0   \n",
       "5947    0  82200   23197.0  110481.0  HomeImp      NaN  26.0    0.0     1.0   \n",
       "5948    0  86000   47355.0   85000.0  DebtCon    Other  15.0    0.0     0.0   \n",
       "5949    0  87000   48980.0   89764.0  DebtCon    Other  14.0    0.0     0.0   \n",
       "5950    0  87500   55938.0   86794.0  DebtCon    Other  15.0    0.0     0.0   \n",
       "5951    0  88300   54004.0   94838.0  DebtCon    Other  16.0    0.0     0.0   \n",
       "5952    0  88500   50240.0   94687.0  DebtCon    Other  16.0    0.0     0.0   \n",
       "5953    0  88800   53307.0   94058.0  DebtCon    Other  16.0    0.0     0.0   \n",
       "5954    0  88900   48919.0   93371.0  DebtCon    Other  15.0    0.0     1.0   \n",
       "5955    0  88900   57264.0   90185.0  DebtCon    Other  16.0    0.0     0.0   \n",
       "5956    0  89000   54576.0   92937.0  DebtCon    Other  16.0    0.0     0.0   \n",
       "5957    0  89200   54045.0   92924.0  DebtCon    Other  15.0    0.0     0.0   \n",
       "5958    0  89800   50370.0   91861.0  DebtCon    Other  14.0    0.0     0.0   \n",
       "5959    0  89900   48811.0   88934.0  DebtCon    Other  15.0    0.0     0.0   \n",
       "\n",
       "           CLAGE  NINQ  CLNO    DEBTINC  \n",
       "0      94.366667   1.0   9.0        NaN  \n",
       "1     121.833333   0.0  14.0        NaN  \n",
       "2     149.466667   1.0  10.0        NaN  \n",
       "3            NaN   NaN   NaN        NaN  \n",
       "4      93.333333   0.0  14.0        NaN  \n",
       "5     101.466002   1.0   8.0  37.113614  \n",
       "6      77.100000   1.0  17.0        NaN  \n",
       "7      88.766030   0.0   8.0  36.884894  \n",
       "8     216.933333   1.0  12.0        NaN  \n",
       "9     115.800000   0.0  13.0        NaN  \n",
       "10           NaN   NaN   NaN        NaN  \n",
       "11    122.533333   1.0   9.0        NaN  \n",
       "12     86.066667   2.0  25.0        NaN  \n",
       "13    147.133333   0.0  24.0        NaN  \n",
       "14    123.000000   0.0  16.0        NaN  \n",
       "15    300.866667   0.0   8.0        NaN  \n",
       "16    122.900000   1.0  22.0        NaN  \n",
       "17           NaN   NaN   NaN   3.711312  \n",
       "18     54.600000   1.0  16.0        NaN  \n",
       "19     90.992533   0.0  13.0  31.588503  \n",
       "20    122.266667   1.0  14.0        NaN  \n",
       "21           NaN   1.0   0.0        NaN  \n",
       "22     67.200000   2.0  22.0        NaN  \n",
       "23    121.733333   0.0  10.0        NaN  \n",
       "24     14.566667   3.0   4.0        NaN  \n",
       "25     70.491080   1.0  21.0  38.263601  \n",
       "26     93.811775   0.0  13.0  29.681827  \n",
       "27    136.066667   1.0  19.0        NaN  \n",
       "28    276.966667   0.0   9.0        NaN  \n",
       "29    208.000000   0.0  12.0        NaN  \n",
       "...          ...   ...   ...        ...  \n",
       "5930  117.166667   9.0  23.0        NaN  \n",
       "5931  115.763534   9.0  23.0  41.105569  \n",
       "5932  134.900000   0.0  26.0        NaN  \n",
       "5933   71.533132   3.0  14.0        NaN  \n",
       "5934   73.469630   3.0  13.0  40.929793  \n",
       "5935  138.000000   0.0  14.0        NaN  \n",
       "5936  146.632842   0.0  13.0  34.300202  \n",
       "5937  142.193458   0.0  13.0  31.469937  \n",
       "5938  139.938999   0.0  14.0  31.333685  \n",
       "5939  144.616126   0.0  13.0  32.366512  \n",
       "5940  132.766724   0.0  13.0  31.642335  \n",
       "5941  142.174300   0.0  13.0  33.468763  \n",
       "5942  137.439991   0.0  14.0  34.202005  \n",
       "5943  139.136329   0.0  14.0  34.042153  \n",
       "5944  148.114993   0.0  14.0  34.285741  \n",
       "5945  146.322783   0.0  14.0  32.131373  \n",
       "5946  142.119979   0.0  14.0  31.743472  \n",
       "5947  127.767588   0.0  14.0  30.942695  \n",
       "5948  210.966667   0.0  16.0        NaN  \n",
       "5949  209.043117   0.0  16.0  36.088037  \n",
       "5950  223.881040   0.0  16.0  36.753653  \n",
       "5951  193.702051   0.0  15.0  36.262691  \n",
       "5952  214.426206   0.0  16.0  34.751158  \n",
       "5953  218.304978   0.0  15.0  34.242465  \n",
       "5954  205.650160   0.0  15.0  34.818262  \n",
       "5955  221.808717   0.0  16.0  36.112347  \n",
       "5956  208.692070   0.0  15.0  35.859971  \n",
       "5957  212.279697   0.0  15.0  35.556590  \n",
       "5958  213.892709   0.0  16.0  34.340882  \n",
       "5959  219.601002   0.0  16.0  34.571519  \n",
       "\n",
       "[5960 rows x 13 columns]>"
      ]
     },
     "execution_count": 3,
     "metadata": {},
     "output_type": "execute_result"
    }
   ],
   "source": [
    "hmeq.head"
   ]
  },
  {
   "cell_type": "code",
   "execution_count": 3,
   "metadata": {},
   "outputs": [],
   "source": [
    "# Load pandas into python\n",
    "import pandas as pd\n",
    "from matplotlib import pyplot as plt\n",
    "\n",
    "%matplotlib inline"
   ]
  },
  {
   "cell_type": "code",
   "execution_count": 4,
   "metadata": {},
   "outputs": [
    {
     "data": {
      "text/plain": [
       "RangeIndex(start=0, stop=5960, step=1)"
      ]
     },
     "execution_count": 4,
     "metadata": {},
     "output_type": "execute_result"
    }
   ],
   "source": [
    "hmeq.index     "
   ]
  },
  {
   "cell_type": "code",
   "execution_count": 5,
   "metadata": {},
   "outputs": [
    {
     "data": {
      "text/plain": [
       "Index(['BAD', 'LOAN', 'MORTDUE', 'VALUE', 'REASON', 'JOB', 'YOJ', 'DEROG',\n",
       "       'DELINQ', 'CLAGE', 'NINQ', 'CLNO', 'DEBTINC'],\n",
       "      dtype='object')"
      ]
     },
     "execution_count": 5,
     "metadata": {},
     "output_type": "execute_result"
    }
   ],
   "source": [
    "hmeq.columns  "
   ]
  },
  {
   "cell_type": "code",
   "execution_count": 6,
   "metadata": {},
   "outputs": [
    {
     "data": {
      "text/plain": [
       "array([[1, 1100, 25860.0, ..., 1.0, 9.0, nan],\n",
       "       [1, 1300, 70053.0, ..., 0.0, 14.0, nan],\n",
       "       [1, 1500, 13500.0, ..., 1.0, 10.0, nan],\n",
       "       ...,\n",
       "       [0, 89200, 54045.0, ..., 0.0, 15.0, 35.55659049],\n",
       "       [0, 89800, 50370.0, ..., 0.0, 16.0, 34.34088237],\n",
       "       [0, 89900, 48811.0, ..., 0.0, 16.0, 34.57151913]], dtype=object)"
      ]
     },
     "execution_count": 6,
     "metadata": {},
     "output_type": "execute_result"
    }
   ],
   "source": [
    "# all values as a numpy array\n",
    "hmeq.values"
   ]
  },
  {
   "cell_type": "code",
   "execution_count": 7,
   "metadata": {},
   "outputs": [
    {
     "name": "stdout",
     "output_type": "stream",
     "text": [
      "<class 'pandas.core.frame.DataFrame'>\n",
      "RangeIndex: 5960 entries, 0 to 5959\n",
      "Data columns (total 13 columns):\n",
      "BAD        5960 non-null int64\n",
      "LOAN       5960 non-null int64\n",
      "MORTDUE    5442 non-null float64\n",
      "VALUE      5848 non-null float64\n",
      "REASON     5708 non-null object\n",
      "JOB        5681 non-null object\n",
      "YOJ        5445 non-null float64\n",
      "DEROG      5252 non-null float64\n",
      "DELINQ     5380 non-null float64\n",
      "CLAGE      5652 non-null float64\n",
      "NINQ       5450 non-null float64\n",
      "CLNO       5738 non-null float64\n",
      "DEBTINC    4693 non-null float64\n",
      "dtypes: float64(9), int64(2), object(2)\n",
      "memory usage: 605.4+ KB\n"
     ]
    }
   ],
   "source": [
    "# concise summary (including memory usage) -- useful to quickly see if nulls exist\n",
    "hmeq.info()  "
   ]
  },
  {
   "cell_type": "code",
   "execution_count": 8,
   "metadata": {},
   "outputs": [
    {
     "data": {
      "text/plain": [
       "BAD           0\n",
       "LOAN          0\n",
       "MORTDUE     518\n",
       "VALUE       112\n",
       "REASON      252\n",
       "JOB         279\n",
       "YOJ         515\n",
       "DEROG       708\n",
       "DELINQ      580\n",
       "CLAGE       308\n",
       "NINQ        510\n",
       "CLNO        222\n",
       "DEBTINC    1267\n",
       "dtype: int64"
      ]
     },
     "execution_count": 8,
     "metadata": {},
     "output_type": "execute_result"
    }
   ],
   "source": [
    "# count the number of missing values in each column\n",
    "hmeq.isnull().sum()"
   ]
  },
  {
   "cell_type": "code",
   "execution_count": 9,
   "metadata": {},
   "outputs": [
    {
     "data": {
      "text/plain": [
       "(3364, 13)"
      ]
     },
     "execution_count": 9,
     "metadata": {},
     "output_type": "execute_result"
    }
   ],
   "source": [
    "# how many rows remain if you drop all rows with any missing values?\n",
    "hmeq.dropna().shape"
   ]
  },
  {
   "cell_type": "code",
   "execution_count": null,
   "metadata": {},
   "outputs": [],
   "source": [
    "from sklearn.linear_model import LinearRegression\n",
    "linreg = LinearRegression()\n",
    "linreg.fit(X, y)"
   ]
  },
  {
   "cell_type": "code",
   "execution_count": null,
   "metadata": {},
   "outputs": [],
   "source": [
    "hmeq.groupby('loan').mean()"
   ]
  },
  {
   "cell_type": "code",
   "execution_count": 12,
   "metadata": {},
   "outputs": [
    {
     "data": {
      "image/png": "[encoded data removed]",
      "text/plain": [
       "<matplotlib.figure.Figure at 0x2a6c14967b8>"
      ]
     },
     "metadata": {},
     "output_type": "display_data"
    }
   ],
   "source": [
    "# Drawing histogram of a column (MORTDUE).\n",
    "hmeq.MORTDUE.hist();"
   ]
  },
  {
   "cell_type": "code",
   "execution_count": 13,
   "metadata": {},
   "outputs": [
    {
     "data": {
      "image/png": "[encoded data removed]",
      "text/plain": [
       "<matplotlib.figure.Figure at 0x2a6c179b6d8>"
      ]
     },
     "metadata": {},
     "output_type": "display_data"
    }
   ],
   "source": [
    "# Drawing histogram of a column (VALUE).\n",
    "hmeq.VALUE.hist();"
   ]
  },
  {
   "cell_type": "code",
   "execution_count": null,
   "metadata": {},
   "outputs": [],
   "source": []
  }
 ],
 "metadata": {
  "kernelspec": {
   "display_name": "Python 3",
   "language": "python",
   "name": "python3"
  },
  "language_info": {
   "codemirror_mode": {
    "name": "ipython",
    "version": 3
   },
   "file_extension": ".py",
   "mimetype": "text/x-python",
   "name": "python",
   "nbconvert_exporter": "python",
   "pygments_lexer": "ipython3",
   "version": "3.6.4"
  }
 },
 "nbformat": 4,
 "nbformat_minor": 2
}
